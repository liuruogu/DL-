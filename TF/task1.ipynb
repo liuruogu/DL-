{
 "cells": [
  {
   "cell_type": "code",
   "execution_count": 1,
   "metadata": {},
   "outputs": [
    {
     "ename": "SyntaxError",
     "evalue": "invalid character in identifier (<ipython-input-1-ec57610adece>, line 6)",
     "output_type": "error",
     "traceback": [
      "\u001b[0;36m  File \u001b[0;32m\"<ipython-input-1-ec57610adece>\"\u001b[0;36m, line \u001b[0;32m6\u001b[0m\n\u001b[0;31m    mnist = input_data.read_data_sets(’input/data’, one_hot=True) # 1. Define Variables and Placeholders\u001b[0m\n\u001b[0m                                           ^\u001b[0m\n\u001b[0;31mSyntaxError\u001b[0m\u001b[0;31m:\u001b[0m invalid character in identifier\n"
     ]
    }
   ],
   "source": [
    "# all tensorflow api is accessible through this\n",
    "import tensorflow as tf\n",
    "import matplotlib.pyplot as plt\n",
    "from tensorflow.examples.tutorials.mnist import input_data\n",
    "# load data\n",
    "mnist = input_data.read_data_sets(’../data/fashion’, one_hot=True) # 1. Define Variables and Placeholders\n",
    "# 2. Define the model\n",
    "# 3. Define the loss function\n",
    "# 4. Define the accuracy\n",
    "# 5. Define an optimizer\n",
    "# initialize\n",
    "init = tf.initialize_all_variables() sess = tf.Session()\n",
    "sess.run(init)\n",
    "# 6. Train and test the model, store the accuracy and loss per iteration\n",
    "# 7a. If you are using Python/Docker, plot and visualise the accuracy and loss\n",
    "# 7b. If you are using hops.site, write to Tensorboard logs, and visualize using Tensorboard"
   ]
  },
  {
   "cell_type": "code",
   "execution_count": null,
   "metadata": {
    "collapsed": true
   },
   "outputs": [],
   "source": []
  }
 ],
 "metadata": {
  "kernelspec": {
   "display_name": "Python 3",
   "language": "python",
   "name": "python3"
  },
  "language_info": {
   "codemirror_mode": {
    "name": "ipython",
    "version": 3
   },
   "file_extension": ".py",
   "mimetype": "text/x-python",
   "name": "python",
   "nbconvert_exporter": "python",
   "pygments_lexer": "ipython3",
   "version": "3.6.3"
  }
 },
 "nbformat": 4,
 "nbformat_minor": 2
}
